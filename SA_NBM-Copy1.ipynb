{
 "cells": [
  {
   "cell_type": "code",
   "execution_count": 1,
   "metadata": {},
   "outputs": [],
   "source": [
    "#Importing Important python module.\n",
    "import pandas as pd\n",
    "import numpy as np\n",
    "import nltk\n",
    "from nltk.corpus import stopwords\n",
    "import re\n",
    "from sklearn.feature_extraction.text import TfidfVectorizer\n",
    "from sklearn.naive_bayes import MultinomialNB\n",
    "import string\n",
    "from sklearn.model_selection import train_test_split  \n",
    "from random import shuffle\n",
    "from sklearn import svm\n",
    "from sklearn.externals import joblib\n",
    "from sklearn.pipeline import Pipeline\n",
    "import pickle\n",
    "from sklearn.metrics import classification_report, confusion_matrix, accuracy_score,roc_curve,auc,f1_score,precision_score,recall_score\n",
    "from sklearn.ensemble import RandomForestClassifier\n",
    "from sklearn.linear_model import SGDClassifier\n",
    "import matplotlib.pyplot as plt\n",
    "from nltk.sentiment.vader import SentimentIntensityAnalyzer"
   ]
  },
  {
   "cell_type": "code",
   "execution_count": 11,
   "metadata": {},
   "outputs": [],
   "source": [
    "#Loading Dataset and spliting it in Train and Test set.\n",
    "train=pd.read_csv(\"train123.csv\",header=None,encoding='ISO-8859-1')\n",
    "test=pd.read_csv(\"uniondata.csv\")\n",
    "train.columns=[\"label\",\"1\",\"2\",\"3\",\"4\",\"tweet\"]\n",
    "x=train[\"tweet\"].tolist()\n",
    "y=train[\"label\"].tolist()\n",
    "X_train, X_test, y_train, y_test = train_test_split(x,y,test_size=0.20, random_state=42)\n",
    "x_test=test[\"tweets\"].tolist()"
   ]
  },
  {
   "cell_type": "code",
   "execution_count": 12,
   "metadata": {},
   "outputs": [
    {
     "data": {
      "text/html": [
       "<div>\n",
       "<style scoped>\n",
       "    .dataframe tbody tr th:only-of-type {\n",
       "        vertical-align: middle;\n",
       "    }\n",
       "\n",
       "    .dataframe tbody tr th {\n",
       "        vertical-align: top;\n",
       "    }\n",
       "\n",
       "    .dataframe thead th {\n",
       "        text-align: right;\n",
       "    }\n",
       "</style>\n",
       "<table border=\"1\" class=\"dataframe\">\n",
       "  <thead>\n",
       "    <tr style=\"text-align: right;\">\n",
       "      <th></th>\n",
       "      <th>label</th>\n",
       "      <th>1</th>\n",
       "      <th>2</th>\n",
       "      <th>3</th>\n",
       "      <th>4</th>\n",
       "      <th>tweet</th>\n",
       "    </tr>\n",
       "  </thead>\n",
       "  <tbody>\n",
       "    <tr>\n",
       "      <th>0</th>\n",
       "      <td>0</td>\n",
       "      <td>1467810369</td>\n",
       "      <td>Mon Apr 06 22:19:45 PDT 2009</td>\n",
       "      <td>NO_QUERY</td>\n",
       "      <td>_TheSpecialOne_</td>\n",
       "      <td>@switchfoot http://twitpic.com/2y1zl - Awww, t...</td>\n",
       "    </tr>\n",
       "    <tr>\n",
       "      <th>1</th>\n",
       "      <td>0</td>\n",
       "      <td>1467810672</td>\n",
       "      <td>Mon Apr 06 22:19:49 PDT 2009</td>\n",
       "      <td>NO_QUERY</td>\n",
       "      <td>scotthamilton</td>\n",
       "      <td>is upset that he can't update his Facebook by ...</td>\n",
       "    </tr>\n",
       "    <tr>\n",
       "      <th>2</th>\n",
       "      <td>0</td>\n",
       "      <td>1467810917</td>\n",
       "      <td>Mon Apr 06 22:19:53 PDT 2009</td>\n",
       "      <td>NO_QUERY</td>\n",
       "      <td>mattycus</td>\n",
       "      <td>@Kenichan I dived many times for the ball. Man...</td>\n",
       "    </tr>\n",
       "    <tr>\n",
       "      <th>3</th>\n",
       "      <td>0</td>\n",
       "      <td>1467811184</td>\n",
       "      <td>Mon Apr 06 22:19:57 PDT 2009</td>\n",
       "      <td>NO_QUERY</td>\n",
       "      <td>ElleCTF</td>\n",
       "      <td>my whole body feels itchy and like its on fire</td>\n",
       "    </tr>\n",
       "    <tr>\n",
       "      <th>4</th>\n",
       "      <td>0</td>\n",
       "      <td>1467811193</td>\n",
       "      <td>Mon Apr 06 22:19:57 PDT 2009</td>\n",
       "      <td>NO_QUERY</td>\n",
       "      <td>Karoli</td>\n",
       "      <td>@nationwideclass no, it's not behaving at all....</td>\n",
       "    </tr>\n",
       "    <tr>\n",
       "      <th>5</th>\n",
       "      <td>0</td>\n",
       "      <td>1467811372</td>\n",
       "      <td>Mon Apr 06 22:20:00 PDT 2009</td>\n",
       "      <td>NO_QUERY</td>\n",
       "      <td>joy_wolf</td>\n",
       "      <td>@Kwesidei not the whole crew</td>\n",
       "    </tr>\n",
       "    <tr>\n",
       "      <th>6</th>\n",
       "      <td>0</td>\n",
       "      <td>1467811592</td>\n",
       "      <td>Mon Apr 06 22:20:03 PDT 2009</td>\n",
       "      <td>NO_QUERY</td>\n",
       "      <td>mybirch</td>\n",
       "      <td>Need a hug</td>\n",
       "    </tr>\n",
       "    <tr>\n",
       "      <th>7</th>\n",
       "      <td>0</td>\n",
       "      <td>1467811594</td>\n",
       "      <td>Mon Apr 06 22:20:03 PDT 2009</td>\n",
       "      <td>NO_QUERY</td>\n",
       "      <td>coZZ</td>\n",
       "      <td>@LOLTrish hey  long time no see! Yes.. Rains a...</td>\n",
       "    </tr>\n",
       "    <tr>\n",
       "      <th>8</th>\n",
       "      <td>0</td>\n",
       "      <td>1467811795</td>\n",
       "      <td>Mon Apr 06 22:20:05 PDT 2009</td>\n",
       "      <td>NO_QUERY</td>\n",
       "      <td>2Hood4Hollywood</td>\n",
       "      <td>@Tatiana_K nope they didn't have it</td>\n",
       "    </tr>\n",
       "    <tr>\n",
       "      <th>9</th>\n",
       "      <td>0</td>\n",
       "      <td>1467812025</td>\n",
       "      <td>Mon Apr 06 22:20:09 PDT 2009</td>\n",
       "      <td>NO_QUERY</td>\n",
       "      <td>mimismo</td>\n",
       "      <td>@twittera que me muera ?</td>\n",
       "    </tr>\n",
       "  </tbody>\n",
       "</table>\n",
       "</div>"
      ],
      "text/plain": [
       "   label           1                             2         3                4  \\\n",
       "0      0  1467810369  Mon Apr 06 22:19:45 PDT 2009  NO_QUERY  _TheSpecialOne_   \n",
       "1      0  1467810672  Mon Apr 06 22:19:49 PDT 2009  NO_QUERY    scotthamilton   \n",
       "2      0  1467810917  Mon Apr 06 22:19:53 PDT 2009  NO_QUERY         mattycus   \n",
       "3      0  1467811184  Mon Apr 06 22:19:57 PDT 2009  NO_QUERY          ElleCTF   \n",
       "4      0  1467811193  Mon Apr 06 22:19:57 PDT 2009  NO_QUERY           Karoli   \n",
       "5      0  1467811372  Mon Apr 06 22:20:00 PDT 2009  NO_QUERY         joy_wolf   \n",
       "6      0  1467811592  Mon Apr 06 22:20:03 PDT 2009  NO_QUERY          mybirch   \n",
       "7      0  1467811594  Mon Apr 06 22:20:03 PDT 2009  NO_QUERY             coZZ   \n",
       "8      0  1467811795  Mon Apr 06 22:20:05 PDT 2009  NO_QUERY  2Hood4Hollywood   \n",
       "9      0  1467812025  Mon Apr 06 22:20:09 PDT 2009  NO_QUERY          mimismo   \n",
       "\n",
       "                                               tweet  \n",
       "0  @switchfoot http://twitpic.com/2y1zl - Awww, t...  \n",
       "1  is upset that he can't update his Facebook by ...  \n",
       "2  @Kenichan I dived many times for the ball. Man...  \n",
       "3    my whole body feels itchy and like its on fire   \n",
       "4  @nationwideclass no, it's not behaving at all....  \n",
       "5                      @Kwesidei not the whole crew   \n",
       "6                                        Need a hug   \n",
       "7  @LOLTrish hey  long time no see! Yes.. Rains a...  \n",
       "8               @Tatiana_K nope they didn't have it   \n",
       "9                          @twittera que me muera ?   "
      ]
     },
     "execution_count": 12,
     "metadata": {},
     "output_type": "execute_result"
    }
   ],
   "source": [
    "train.head(10)"
   ]
  },
  {
   "cell_type": "code",
   "execution_count": 13,
   "metadata": {},
   "outputs": [
    {
     "data": {
      "text/html": [
       "<div>\n",
       "<style scoped>\n",
       "    .dataframe tbody tr th:only-of-type {\n",
       "        vertical-align: middle;\n",
       "    }\n",
       "\n",
       "    .dataframe tbody tr th {\n",
       "        vertical-align: top;\n",
       "    }\n",
       "\n",
       "    .dataframe thead th {\n",
       "        text-align: right;\n",
       "    }\n",
       "</style>\n",
       "<table border=\"1\" class=\"dataframe\">\n",
       "  <thead>\n",
       "    <tr style=\"text-align: right;\">\n",
       "      <th></th>\n",
       "      <th>tweets</th>\n",
       "    </tr>\n",
       "  </thead>\n",
       "  <tbody>\n",
       "    <tr>\n",
       "      <th>0</th>\n",
       "      <td>Talk on Union Budget 2019!! pic.twitter.com/8D...</td>\n",
       "    </tr>\n",
       "    <tr>\n",
       "      <th>1</th>\n",
       "      <td>Here is a quick highlight on Union Budget 2019...</td>\n",
       "    </tr>\n",
       "    <tr>\n",
       "      <th>2</th>\n",
       "      <td>Union Budget 2019: \\r\\n\\r\\nAuto Industry Disap...</td>\n",
       "    </tr>\n",
       "    <tr>\n",
       "      <th>3</th>\n",
       "      <td>Mr. Dhiraj Jain, Director, Mahagun India, shar...</td>\n",
       "    </tr>\n",
       "    <tr>\n",
       "      <th>4</th>\n",
       "      <td>A 19 Years Old Teenager @tarak9999 breaks All ...</td>\n",
       "    </tr>\n",
       "    <tr>\n",
       "      <th>5</th>\n",
       "      <td>5 trillion for who ?? Ambani ?? Union Budget 2...</td>\n",
       "    </tr>\n",
       "    <tr>\n",
       "      <th>6</th>\n",
       "      <td>Union Budget 2019: Railways focus to be on saf...</td>\n",
       "    </tr>\n",
       "    <tr>\n",
       "      <th>7</th>\n",
       "      <td>.@nsitharaman to present Union Budget of Modi ...</td>\n",
       "    </tr>\n",
       "    <tr>\n",
       "      <th>8</th>\n",
       "      <td>The process of legislative reforms on Labour i...</td>\n",
       "    </tr>\n",
       "    <tr>\n",
       "      <th>9</th>\n",
       "      <td>#Moneypitara: Highlights of Budget 2019-20: #B...</td>\n",
       "    </tr>\n",
       "  </tbody>\n",
       "</table>\n",
       "</div>"
      ],
      "text/plain": [
       "                                              tweets\n",
       "0  Talk on Union Budget 2019!! pic.twitter.com/8D...\n",
       "1  Here is a quick highlight on Union Budget 2019...\n",
       "2  Union Budget 2019: \\r\\n\\r\\nAuto Industry Disap...\n",
       "3  Mr. Dhiraj Jain, Director, Mahagun India, shar...\n",
       "4  A 19 Years Old Teenager @tarak9999 breaks All ...\n",
       "5  5 trillion for who ?? Ambani ?? Union Budget 2...\n",
       "6  Union Budget 2019: Railways focus to be on saf...\n",
       "7  .@nsitharaman to present Union Budget of Modi ...\n",
       "8  The process of legislative reforms on Labour i...\n",
       "9  #Moneypitara: Highlights of Budget 2019-20: #B..."
      ]
     },
     "execution_count": 13,
     "metadata": {},
     "output_type": "execute_result"
    }
   ],
   "source": [
    "test.head(10)"
   ]
  },
  {
   "cell_type": "code",
   "execution_count": 14,
   "metadata": {},
   "outputs": [],
   "source": [
    "f1score=[]\n",
    "precission=[]\n",
    "recall=[]"
   ]
  },
  {
   "cell_type": "markdown",
   "metadata": {},
   "source": [
    "# Lexicon Based Aproach"
   ]
  },
  {
   "cell_type": "code",
   "execution_count": 15,
   "metadata": {},
   "outputs": [
    {
     "name": "stdout",
     "output_type": "stream",
     "text": [
      "Positive:  608\n",
      "Negetive:  101\n"
     ]
    }
   ],
   "source": [
    "#importing test dataset\n",
    "data = pd.read_csv(\"uniondata.csv\")\n",
    "#instanciating the SentimentIntensityAnalyzer object from vader sentiment analyzer\n",
    "sid = SentimentIntensityAnalyzer()\n",
    "listy = []\n",
    "pos,neg=0,0\n",
    "#calculating the polarity score of all the tweets\n",
    "for index, row in data.iterrows():\n",
    "    ss = sid.polarity_scores(row[\"tweets\"])\n",
    "    if ss['compound'] >= 0.0 : \n",
    "        pos+=1 \n",
    "        score=1\n",
    "    else: \n",
    "        neg+=1\n",
    "        score=0\n",
    "    g=[ss,score]\n",
    "    listy.append(g)\n",
    "sentiment_scores={\"Positive\":pos,\"Negetive\":neg}\n",
    "se = pd.DataFrame(listy,columns=[\"polarity\",\"lexicon label\"])\n",
    "data=pd.concat([data, se], axis=1)\n",
    "print(\"Positive: \",sentiment_scores[\"Positive\"])\n",
    "print(\"Negetive: \",sentiment_scores[\"Negetive\"])"
   ]
  },
  {
   "cell_type": "code",
   "execution_count": 16,
   "metadata": {},
   "outputs": [
    {
     "data": {
      "image/png": "[encoded data removed]",
      "text/plain": [
       "<Figure size 432x432 with 1 Axes>"
      ]
     },
     "metadata": {
      "needs_background": "light"
     },
     "output_type": "display_data"
    },
    {
     "data": {
      "text/plain": [
       "<Figure size 432x288 with 0 Axes>"
      ]
     },
     "metadata": {},
     "output_type": "display_data"
    }
   ],
   "source": [
    "#countplot for positive and negetive sentiments\n",
    "fig = plt.figure(figsize=(6,6))\n",
    "plt.bar(range(len(sentiment_scores)),list(sentiment_scores.values()),tick_label=list(sentiment_scores.keys()),color=['lime', 'tomato', 'cyan'])\n",
    "plt.xlabel('Sentiments',fontsize=16)\n",
    "plt.ylabel('Counts',fontsize=16)\n",
    "plt.title('Public Reception of Union Budget 2019', fontsize=20)\n",
    "plt.show()\n",
    "plt.savefig(\"C:\\\\Users\\kools\\\\Desktop\\\\Assignment\\\\graph9.png\",bbox_inches=\"tight\",pad_inches=2)"
   ]
  },
  {
   "cell_type": "markdown",
   "metadata": {},
   "source": [
    "# Machine Learning Approach"
   ]
  },
  {
   "cell_type": "code",
   "execution_count": 17,
   "metadata": {},
   "outputs": [],
   "source": [
    "#Pre-processing and Cleaning of Tweets. Like removing URL,@Username,Hagtag,Repating etc..\n",
    "def preprocessTweets(tweet):\n",
    "    #Convert www.* or https?://* to URL\n",
    "    tweet = re.sub('((www\\.[^\\s]+)|(https?://[^\\s]+))','URL',tweet)\n",
    "    #Convert @username to __HANDLE\n",
    "    tweet = re.sub('@[^\\s]+','__HANDLE',tweet)  \n",
    "    #Replace #word with word\n",
    "    tweet = re.sub(r'#([^\\s]+)', r'\\1', tweet)\n",
    "    #trim\n",
    "    tweet = tweet.strip('\\'\"')\n",
    "    # Repeating words like akashhhhhhhhhhh\n",
    "    rpt_regex = re.compile(r\"(.)\\1{1,}\", re.IGNORECASE)\n",
    "    tweet = rpt_regex.sub(r\"\\1\\1\", tweet)\n",
    "    #Emoticons\n",
    "    emoticons = \\\n",
    "    [\n",
    "     ('__positive__',[ ':-)', ':)', '(:', '(-:', \\\n",
    "                       ':-D', ':D', 'X-D', 'XD', 'xD', \\\n",
    "                       '<3', ':\\*', ';-)', ';)', ';-D', ';D', '(;', '(-;', ] ),\\\n",
    "     ('__negative__', [':-(', ':(', '(:', '(-:', ':,(',\\\n",
    "                       ':\\'(', ':\"(', ':((', ] ),\\\n",
    "    ]\n",
    "    def replace_parenth(arr):\n",
    "       return [text.replace(')', '[)}\\]]').replace('(', '[({\\[]') for text in arr]\n",
    "    \n",
    "    def regex_join(arr):\n",
    "        return '(' + '|'.join( arr ) + ')'\n",
    "\n",
    "    emoticons_regex = [ (repl, re.compile(regex_join(replace_parenth(regx))) ) \\\n",
    "            for (repl, regx) in emoticons ]\n",
    "    \n",
    "    for (repl, regx) in emoticons_regex :\n",
    "        tweet = re.sub(regx, ' '+repl+' ', tweet)\n",
    "     #Convert to lower case\n",
    "    tweet = tweet.lower()\n",
    "    return tweet\n",
    "#Stemming of Tweets\n",
    "def stem(tweet):\n",
    "        stemmer = nltk.stem.PorterStemmer()\n",
    "        tweet_stem = ''\n",
    "        words = [word if(word[0:2]=='__') else word.lower() \\\n",
    "                    for word in tweet.split() \\\n",
    "                    if len(word) >= 3]\n",
    "        words = [stemmer.stem(w) for w in words] \n",
    "        tweet_stem = ' '.join(words)\n",
    "        return tweet_stem"
   ]
  },
  {
   "cell_type": "code",
   "execution_count": 18,
   "metadata": {},
   "outputs": [],
   "source": [
    "#Processing tweets.\n",
    "def processTweets(X):\n",
    "        X = [stem(preprocessTweets(tweet)) for tweet in X]\n",
    "        return X"
   ]
  },
  {
   "cell_type": "code",
   "execution_count": null,
   "metadata": {},
   "outputs": [],
   "source": [
    "#Getting cleaned X_train and X_test Data.\n",
    "X_train = processTweets(X_train)"
   ]
  },
  {
   "cell_type": "code",
   "execution_count": 19,
   "metadata": {},
   "outputs": [],
   "source": [
    "#Getting cleaned X_test and x_test Data.\n",
    "X_test = processTweets(X_test)\n",
    "x_test = processTweets(x_test)"
   ]
  },
  {
   "cell_type": "code",
   "execution_count": 9,
   "metadata": {},
   "outputs": [],
   "source": [
    "#Vectorization of data to train it.\n",
    "vec = TfidfVectorizer(min_df=5, max_df=0.95, sublinear_tf = True,use_idf = True,ngram_range=(1, 2))"
   ]
  },
  {
   "cell_type": "code",
   "execution_count": null,
   "metadata": {},
   "outputs": [],
   "source": [
    "#Support Vector Machine classifier Model.\n",
    "def classifier(X_train,y_train):\n",
    "        svm_clf =svm.LinearSVC()\n",
    "        vec_clf = Pipeline([('vectorizer', vec), ('pac', svm_clf)])\n",
    "        vec_clf.fit(X_train,y_train)\n",
    "        joblib.dump(vec_clf, 'svmClassifier.pkl', compress=3)\n",
    "        return vec_clf\n",
    "vec_clf1 = classifier(X_train,y_train)"
   ]
  },
  {
   "cell_type": "code",
   "execution_count": null,
   "metadata": {},
   "outputs": [],
   "source": [
    "#Stochastic Gradient Descent classifier Model.\n",
    "def classifiersgd(X_train,y_train):\n",
    "        svm_clf =SGDClassifier()\n",
    "        vec_clf = Pipeline([('vectorizer', vec), ('pac', svm_clf)])\n",
    "        vec_clf.fit(X_train,y_train)\n",
    "        joblib.dump(vec_clf, 'sgdClassifier.pkl', compress=3)\n",
    "        return vec_clf\n",
    "vec_clf2 = classifiersgd(X_train,y_train)"
   ]
  },
  {
   "cell_type": "code",
   "execution_count": null,
   "metadata": {},
   "outputs": [],
   "source": [
    "#Random Forest Classsifier Model\n",
    "def classifierRFC(X_train,y_train):\n",
    "        svm_clf =RandomForestClassifier(n_estimators=100,max_depth=5)\n",
    "        vec_clf = Pipeline([('vectorizer', vec), ('pac', svm_clf)])\n",
    "        vec_clf.fit(X_train,y_train)\n",
    "        joblib.dump(vec_clf, 'RFCClassifier.pkl', compress=3)\n",
    "        return vec_clf\n",
    "vec_clf3 = classifierRFC(X_train,y_train)"
   ]
  },
  {
   "cell_type": "code",
   "execution_count": null,
   "metadata": {},
   "outputs": [],
   "source": [
    "#Naive-Bayes Multinomial Model\n",
    "def classifierNB(X_train,y_train):\n",
    "        svm_clf =MultinomialNB()\n",
    "        vec_clf = Pipeline([('vectorizer', vec), ('pac', svm_clf)])\n",
    "        vec_clf.fit(X_train,y_train)\n",
    "        joblib.dump(vec_clf, 'MNBClassifier.pkl', compress=3)\n",
    "        return vec_clf\n",
    "vec_clf4 = classifierNB(X_train,y_train)"
   ]
  },
  {
   "cell_type": "markdown",
   "metadata": {},
   "source": [
    "#### Trained Classifier for SVCclassifier and Their Produced Result"
   ]
  },
  {
   "cell_type": "code",
   "execution_count": 20,
   "metadata": {},
   "outputs": [],
   "source": [
    "#Loading SVC Classifier Model\n",
    "classifier_f = open(\"svmClassifier.pkl\", \"rb\")\n",
    "classifierSVC = joblib.load(classifier_f)\n",
    "classifier_f.close()"
   ]
  },
  {
   "cell_type": "code",
   "execution_count": 21,
   "metadata": {},
   "outputs": [],
   "source": [
    "#Predict the X_test on svmclassifier\n",
    "y_predSVC = classifierSVC.predict(X_test)\n",
    "Y_predSVC = classifierSVC.predict(x_test)\n",
    "posSVC=[w for w in Y_predSVC if w==4]\n",
    "negSVC=[w for w in Y_predSVC if w==0]\n"
   ]
  },
  {
   "cell_type": "code",
   "execution_count": 22,
   "metadata": {},
   "outputs": [
    {
     "name": "stdout",
     "output_type": "stream",
     "text": [
      "The Accuracy Score is : 0.804896875\n",
      "The False Positive Rate is [0.         0.19944951 1.        ] and The True Positive Rate is [0.         0.80921585 1.        ]\n",
      "The Accuracy of False Positive Rate and True Positive Rate is  0.8048831728932834\n",
      "The classification Report is : \n",
      "              precision    recall  f1-score   support\n",
      "\n",
      "           0       0.81      0.80      0.80    159494\n",
      "           4       0.80      0.81      0.81    160506\n",
      "\n",
      "   micro avg       0.80      0.80      0.80    320000\n",
      "   macro avg       0.80      0.80      0.80    320000\n",
      "weighted avg       0.80      0.80      0.80    320000\n",
      "\n"
     ]
    }
   ],
   "source": [
    "#ACCURACY SCORE,AUC,AND CLASSIFICATION REPORT\n",
    "print(\"The Accuracy Score is :\",accuracy_score(y_test,y_predSVC))\n",
    "fpr,tpr,threshold = roc_curve(y_test,y_predSVC,pos_label=4)\n",
    "print(\"The False Positive Rate is {} and The True Positive Rate is {}\".format(fpr,tpr))\n",
    "print(\"The Accuracy of False Positive Rate and True Positive Rate is \",auc(fpr,tpr))\n",
    "print(\"The classification Report is : \",end=\"\\n\")\n",
    "print(classification_report(y_test,y_predSVC))"
   ]
  },
  {
   "cell_type": "code",
   "execution_count": 23,
   "metadata": {},
   "outputs": [],
   "source": [
    "f1score.append(f1_score(y_test,y_predSVC,pos_label=4))\n",
    "precission.append(precision_score(y_test,y_predSVC,pos_label=4))\n",
    "recall.append(recall_score(y_test,y_predSVC,pos_label=4))"
   ]
  },
  {
   "cell_type": "code",
   "execution_count": 24,
   "metadata": {},
   "outputs": [
    {
     "data": {
      "image/png": "[encoded data removed]",
      "text/plain": [
       "<Figure size 432x288 with 1 Axes>"
      ]
     },
     "metadata": {
      "needs_background": "light"
     },
     "output_type": "display_data"
    },
    {
     "data": {
      "text/plain": [
       "<Figure size 432x288 with 0 Axes>"
      ]
     },
     "metadata": {},
     "output_type": "display_data"
    }
   ],
   "source": [
    "#Ploting ROC-Curve.\n",
    "plt.figure()\n",
    "lw = 4\n",
    "plt.plot(fpr, tpr, color='darkorange',lw=lw, label='ROC curve (area = %f)' % auc(fpr,tpr))\n",
    "plt.plot([0, 1], [0, 1], color='navy', lw=lw, linestyle='--')\n",
    "plt.xlim([0.0, 1.0])\n",
    "plt.ylim([0.0, 1.0])\n",
    "plt.xlabel('False Positive Rate')\n",
    "plt.ylabel('True Positive Rate')\n",
    "plt.title('Receiver operating characteristic Curve of SVM Model')\n",
    "plt.legend(loc=\"lower right\")\n",
    "plt.show()\n",
    "plt.savefig(\"C:\\\\Users\\kools\\\\Desktop\\\\Assignment\\\\sachin\\\\graph1.png\",bbox_inches=\"tight\",pad_inches=2)"
   ]
  },
  {
   "cell_type": "markdown",
   "metadata": {},
   "source": [
    "#### Trained Classifier for SGDclassifier and Their Produced Result"
   ]
  },
  {
   "cell_type": "code",
   "execution_count": 25,
   "metadata": {},
   "outputs": [],
   "source": [
    "#Loading SGD Classifier.\n",
    "classifier_f = open(\"sgdClassifier.pkl\", \"rb\")\n",
    "classifierSGD = joblib.load(classifier_f)\n",
    "classifier_f.close()"
   ]
  },
  {
   "cell_type": "code",
   "execution_count": 26,
   "metadata": {},
   "outputs": [],
   "source": [
    "#Predict The X_test on SGD model.\n",
    "y_predSGD = classifierSGD.predict(X_test)\n",
    "Y_predSGD = classifierSGD.predict(x_test)\n",
    "posSGD=[w for w in Y_predSGD if w==4]\n",
    "negSGD=[w for w in Y_predSGD if w==0]\n"
   ]
  },
  {
   "cell_type": "code",
   "execution_count": 27,
   "metadata": {},
   "outputs": [
    {
     "name": "stdout",
     "output_type": "stream",
     "text": [
      "The Accuracy Score is : 0.781009375\n",
      "The False Positive Rate is [0.         0.23046008 1.        ] and The True Positive Rate is [0.         0.79240651 1.        ]\n",
      "The Accuracy of False Positive Rate and True Positive Rate is  0.780973217197603\n",
      "The classification Report is : \n",
      "              precision    recall  f1-score   support\n",
      "\n",
      "           0       0.79      0.77      0.78    159494\n",
      "           4       0.78      0.79      0.78    160506\n",
      "\n",
      "   micro avg       0.78      0.78      0.78    320000\n",
      "   macro avg       0.78      0.78      0.78    320000\n",
      "weighted avg       0.78      0.78      0.78    320000\n",
      "\n"
     ]
    }
   ],
   "source": [
    "#ACCURACY SCORE,AUC,AND CLASSIFICATION REPORT\n",
    "print(\"The Accuracy Score is :\",accuracy_score(y_test,y_predSGD))\n",
    "fpr,tpr,threshold = roc_curve(y_test,y_predSGD,pos_label=4)\n",
    "print(\"The False Positive Rate is {} and The True Positive Rate is {}\".format(fpr,tpr))\n",
    "print(\"The Accuracy of False Positive Rate and True Positive Rate is \",auc(fpr,tpr))\n",
    "print(\"The classification Report is : \",end=\"\\n\")\n",
    "print(classification_report(y_test,y_predSGD))"
   ]
  },
  {
   "cell_type": "code",
   "execution_count": 28,
   "metadata": {},
   "outputs": [],
   "source": [
    "f1score.append(f1_score(y_test,y_predSVC,pos_label=4))\n",
    "precission.append(precision_score(y_test,y_predSGD,pos_label=4))\n",
    "recall.append(recall_score(y_test,y_predSGD,pos_label=4))"
   ]
  },
  {
   "cell_type": "code",
   "execution_count": 29,
   "metadata": {},
   "outputs": [
    {
     "data": {
      "image/png": "[encoded data removed]",
      "text/plain": [
       "<Figure size 432x288 with 1 Axes>"
      ]
     },
     "metadata": {
      "needs_background": "light"
     },
     "output_type": "display_data"
    },
    {
     "data": {
      "text/plain": [
       "<Figure size 432x288 with 0 Axes>"
      ]
     },
     "metadata": {},
     "output_type": "display_data"
    }
   ],
   "source": [
    "#ROC-Curve of SGD Classifier.\n",
    "plt.figure()\n",
    "lw = 4\n",
    "plt.plot(fpr, tpr, color='darkorange',lw=lw, label='ROC curve (area = %f)' % auc(fpr,tpr))\n",
    "plt.plot([0, 1], [0, 1], color='navy', lw=lw, linestyle='--')\n",
    "plt.xlim([0.0, 1.0])\n",
    "plt.ylim([0.0, 1.0])\n",
    "plt.xlabel('False Positive Rate')\n",
    "plt.ylabel('True Positive Rate')\n",
    "plt.title('Receiver operating characteristic Curve of SGD Model')\n",
    "plt.legend(loc=\"lower right\")\n",
    "plt.show()\n",
    "plt.savefig(\"C:\\\\Users\\kools\\\\Desktop\\\\Assignment\\\\graph2.png\",bbox_inches=\"tight\",pad_inches=2)"
   ]
  },
  {
   "cell_type": "markdown",
   "metadata": {},
   "source": [
    "#### Trained Classifier for RFCclassifier and Their Produced Result"
   ]
  },
  {
   "cell_type": "code",
   "execution_count": 30,
   "metadata": {},
   "outputs": [],
   "source": [
    "#Loading RFC Classifier.\n",
    "classifier_f = open(\"RFCClassifier.pkl\", \"rb\")\n",
    "classifierRFC = joblib.load(classifier_f)\n",
    "classifier_f.close()"
   ]
  },
  {
   "cell_type": "code",
   "execution_count": 31,
   "metadata": {},
   "outputs": [],
   "source": [
    "#Predict X_test on RFC Model.\n",
    "y_predRFC = classifierRFC.predict(X_test)\n",
    "Y_predRFC = classifierRFC.predict(x_test)\n",
    "posRFC=[w for w in Y_predRFC if w==4]\n",
    "negRFC=[w for w in Y_predRFC if w==0]"
   ]
  },
  {
   "cell_type": "code",
   "execution_count": 32,
   "metadata": {},
   "outputs": [
    {
     "name": "stdout",
     "output_type": "stream",
     "text": [
      "The Accuracy Score is : 0.692759375\n",
      "The False Positive Rate is [0.         0.26506953 1.        ] and The True Positive Rate is [0.         0.65085417 1.        ]\n",
      "The Accuracy of False Positive Rate and True Positive Rate is  0.6928923206397737\n",
      "The classification Report is : \n",
      "              precision    recall  f1-score   support\n",
      "\n",
      "           0       0.68      0.73      0.70    159494\n",
      "           4       0.71      0.65      0.68    160506\n",
      "\n",
      "   micro avg       0.69      0.69      0.69    320000\n",
      "   macro avg       0.69      0.69      0.69    320000\n",
      "weighted avg       0.69      0.69      0.69    320000\n",
      "\n"
     ]
    }
   ],
   "source": [
    "#ACCURACY SCORE,AUC,AND CLASSIFICATION REPORT\n",
    "print(\"The Accuracy Score is :\",accuracy_score(y_test,y_predRFC))\n",
    "fpr,tpr,threshold = roc_curve(y_test,y_predRFC,pos_label=4)\n",
    "print(\"The False Positive Rate is {} and The True Positive Rate is {}\".format(fpr,tpr))\n",
    "print(\"The Accuracy of False Positive Rate and True Positive Rate is \",auc(fpr,tpr))\n",
    "print(\"The classification Report is : \",end=\"\\n\")\n",
    "print(classification_report(y_test,y_predRFC))"
   ]
  },
  {
   "cell_type": "code",
   "execution_count": 33,
   "metadata": {},
   "outputs": [],
   "source": [
    "f1score.append(f1_score(y_test,y_predRFC,pos_label=4))\n",
    "precission.append(precision_score(y_test,y_predRFC,pos_label=4))\n",
    "recall.append(recall_score(y_test,y_predRFC,pos_label=4))"
   ]
  },
  {
   "cell_type": "code",
   "execution_count": 34,
   "metadata": {},
   "outputs": [
    {
     "data": {
      "image/png": "[encoded data removed]",
      "text/plain": [
       "<Figure size 432x288 with 1 Axes>"
      ]
     },
     "metadata": {
      "needs_background": "light"
     },
     "output_type": "display_data"
    },
    {
     "data": {
      "text/plain": [
       "<Figure size 432x288 with 0 Axes>"
      ]
     },
     "metadata": {},
     "output_type": "display_data"
    }
   ],
   "source": [
    "#ROC_Curve of RFC Classifer.\n",
    "plt.figure()\n",
    "lw = 4\n",
    "plt.plot(fpr, tpr, color='darkorange',lw=lw, label='ROC curve (area = %f)' % auc(fpr,tpr))\n",
    "plt.plot([0, 1], [0, 1], color='navy', lw=lw, linestyle='--')\n",
    "plt.xlim([0.0, 1.0])\n",
    "plt.ylim([0.0, 1.0])\n",
    "plt.xlabel('False Positive Rate')\n",
    "plt.ylabel('True Positive Rate')\n",
    "plt.title('Receiver operating characteristic Curve of RFC Model')\n",
    "plt.legend(loc=\"lower right\")\n",
    "plt.show()\n",
    "plt.savefig(\"C:\\\\Users\\kools\\\\Desktop\\\\Assignment\\\\graph3.png\",bbox_inches=\"tight\",pad_inches=2)"
   ]
  },
  {
   "cell_type": "markdown",
   "metadata": {},
   "source": [
    "#### Trained Classifier for Naive-Byes Multinomial Classifier and Their Produced Result"
   ]
  },
  {
   "cell_type": "code",
   "execution_count": 35,
   "metadata": {},
   "outputs": [],
   "source": [
    "#Loading Naive-Bayes Multinomial Calssifier.\n",
    "classifier_f = open(\"MNBClassifier.pkl\", \"rb\")\n",
    "classifierMNB = joblib.load(classifier_f)\n",
    "classifier_f.close()"
   ]
  },
  {
   "cell_type": "code",
   "execution_count": 36,
   "metadata": {},
   "outputs": [],
   "source": [
    "#Pridict X_test on Naive-Byes Model.\n",
    "y_predMNB = classifierMNB.predict(X_test)\n",
    "Y_predMNB = classifierMNB.predict(x_test)\n",
    "posMNB=[w for w in Y_predMNB if w==4]\n",
    "negMNB=[w for w in Y_predMNB if w==0]"
   ]
  },
  {
   "cell_type": "code",
   "execution_count": 37,
   "metadata": {},
   "outputs": [
    {
     "name": "stdout",
     "output_type": "stream",
     "text": [
      "The Accuracy Score is : 0.799496875\n",
      "The False Positive Rate is [0.         0.19571269 1.        ] and The True Positive Rate is [0.         0.79473665 1.        ]\n",
      "The Accuracy of False Positive Rate and True Positive Rate is  0.7995119769862711\n",
      "The classification Report is : \n",
      "              precision    recall  f1-score   support\n",
      "\n",
      "           0       0.80      0.80      0.80    159494\n",
      "           4       0.80      0.79      0.80    160506\n",
      "\n",
      "   micro avg       0.80      0.80      0.80    320000\n",
      "   macro avg       0.80      0.80      0.80    320000\n",
      "weighted avg       0.80      0.80      0.80    320000\n",
      "\n"
     ]
    }
   ],
   "source": [
    "#ACCURACY SCORE,AUC,AND CLASSIFICATION REPORT\n",
    "print(\"The Accuracy Score is :\",accuracy_score(y_test,y_predMNB))\n",
    "fpr,tpr,threshold = roc_curve(y_test,y_predMNB,pos_label=4)\n",
    "print(\"The False Positive Rate is {} and The True Positive Rate is {}\".format(fpr,tpr))\n",
    "print(\"The Accuracy of False Positive Rate and True Positive Rate is \",auc(fpr,tpr))\n",
    "print(\"The classification Report is : \",end=\"\\n\")\n",
    "print(classification_report(y_test,y_predMNB))"
   ]
  },
  {
   "cell_type": "code",
   "execution_count": 38,
   "metadata": {},
   "outputs": [],
   "source": [
    "f1score.append(f1_score(y_test,y_predMNB,pos_label=4))\n",
    "precission.append(precision_score(y_test,y_predMNB,pos_label=4))\n",
    "recall.append(recall_score(y_test,y_predMNB,pos_label=4))"
   ]
  },
  {
   "cell_type": "code",
   "execution_count": 39,
   "metadata": {},
   "outputs": [
    {
     "data": {
      "image/png": "[encoded data removed]",
      "text/plain": [
       "<Figure size 432x288 with 1 Axes>"
      ]
     },
     "metadata": {
      "needs_background": "light"
     },
     "output_type": "display_data"
    },
    {
     "data": {
      "text/plain": [
       "<Figure size 432x288 with 0 Axes>"
      ]
     },
     "metadata": {},
     "output_type": "display_data"
    }
   ],
   "source": [
    "#ROC-Curve of NB Multinomial Model.\n",
    "plt.figure()\n",
    "lw = 4\n",
    "plt.plot(fpr, tpr, color='darkorange',lw=lw, label='ROC curve (area = %f)' % auc(fpr,tpr))\n",
    "plt.plot([0, 1], [0, 1], color='navy', lw=lw, linestyle='--')\n",
    "plt.xlim([0.0, 1.0])\n",
    "plt.ylim([0.0, 1.0])\n",
    "plt.xlabel('False Positive Rate')\n",
    "plt.ylabel('True Positive Rate')\n",
    "plt.title('Receiver operating characteristic NB Multinomial Model')\n",
    "plt.legend(loc=\"lower right\")\n",
    "plt.show()\n",
    "plt.savefig(\"C:\\\\Users\\kools\\\\Desktop\\\\Assignment\\\\graph4.png\",bbox_inches=\"tight\",pad_inches=2)"
   ]
  },
  {
   "cell_type": "code",
   "execution_count": 40,
   "metadata": {},
   "outputs": [
    {
     "data": {
      "image/png": "[encoded data removed]",
      "text/plain": [
       "<Figure size 432x288 with 1 Axes>"
      ]
     },
     "metadata": {
      "needs_background": "light"
     },
     "output_type": "display_data"
    }
   ],
   "source": [
    "#Bar plot for F1-Score\n",
    "s=[\"SVC\",\"SGD\",\"RFC\",\"MNB\"]\n",
    "xpos=np.arange(len(s))\n",
    "plt.xticks(xpos,s)\n",
    "plt.xlabel(\"Different classifier\")\n",
    "plt.ylabel(\"F1_score\")\n",
    "plt.title(\"Efficiency Measurment\")\n",
    "plt.bar(xpos-0,f1score,color='red',width=0.4,label='F1-Score')\n",
    "plt.legend(loc=\"best\")\n",
    "plt.savefig(\"C:\\\\Users\\kools\\\\Desktop\\\\Assignment\\\\graph5.png\",bbox_inches=\"tight\",pad_inches=2)"
   ]
  },
  {
   "cell_type": "code",
   "execution_count": 41,
   "metadata": {},
   "outputs": [
    {
     "data": {
      "image/png": "[encoded data removed]",
      "text/plain": [
       "<Figure size 432x288 with 1 Axes>"
      ]
     },
     "metadata": {
      "needs_background": "light"
     },
     "output_type": "display_data"
    }
   ],
   "source": [
    "#Bar plot for Precision-Score\n",
    "s=[\"SVC\",\"SGD\",\"RFC\",\"MNB\"]\n",
    "xpos=np.arange(len(s))\n",
    "plt.xticks(xpos,s)\n",
    "plt.xlabel(\"Different classifier\")\n",
    "plt.ylabel(\"Precision_score\")\n",
    "plt.title(\"Efficiency Measurment\")\n",
    "plt.bar(xpos+0,precission,color='green',width=0.4,label='Precision-Score')\n",
    "plt.legend(loc=\"best\")\n",
    "plt.savefig(\"C:\\\\Users\\kools\\\\Desktop\\\\Assignment\\\\graph6.png\",bbox_inches=\"tight\",pad_inches=2)"
   ]
  },
  {
   "cell_type": "code",
   "execution_count": 42,
   "metadata": {},
   "outputs": [
    {
     "data": {
      "image/png": "[encoded data removed]",
      "text/plain": [
       "<Figure size 432x288 with 1 Axes>"
      ]
     },
     "metadata": {
      "needs_background": "light"
     },
     "output_type": "display_data"
    }
   ],
   "source": [
    "#Bar plot for Recall-Score\n",
    "s=[\"SVC\",\"SGD\",\"RFC\",\"MNB\"]\n",
    "xpos=np.arange(len(s))\n",
    "plt.xticks(xpos,s)\n",
    "plt.xlabel(\"Different classifier\")\n",
    "plt.ylabel(\"Recall_score\")\n",
    "plt.title(\"Efficiency Measurment\")\n",
    "plt.bar(xpos+0,recall,color='yellow',width=0.4,label='Recall-Score')\n",
    "plt.legend(loc=\"best\")\n",
    "plt.savefig(\"C:\\\\Users\\kools\\\\Desktop\\\\Assignment\\\\graph7.png\",bbox_inches=\"tight\",pad_inches=2)"
   ]
  },
  {
   "cell_type": "code",
   "execution_count": 43,
   "metadata": {},
   "outputs": [],
   "source": [
    "finalPOS=[]\n",
    "finalNEG=[]\n",
    "finalPOS.append(len(posSVC))\n",
    "finalPOS.append(len(posSGD))\n",
    "finalPOS.append(len(posRFC))\n",
    "finalPOS.append(len(posMNB))\n",
    "finalNEG.append(len(negSVC))\n",
    "finalNEG.append(len(negSGD))\n",
    "finalNEG.append(len(negRFC))\n",
    "finalNEG.append(len(negMNB))\n",
    "finalPOS.append(sentiment_scores[\"Positive\"])\n",
    "finalNEG.append(sentiment_scores[\"Negetive\"])"
   ]
  },
  {
   "cell_type": "code",
   "execution_count": 44,
   "metadata": {},
   "outputs": [
    {
     "data": {
      "image/png": "[encoded data removed]",
      "text/plain": [
       "<Figure size 432x288 with 1 Axes>"
      ]
     },
     "metadata": {
      "needs_background": "light"
     },
     "output_type": "display_data"
    }
   ],
   "source": [
    "#Plot for no. of positive and Negative Tweets.\n",
    "s=[\"SVC\",\"SGD\",\"RFC\",\"MNB\",\"Lexicon\"]\n",
    "xpos=np.arange(len(s))\n",
    "plt.xticks(xpos,s)\n",
    "plt.xlabel(\"Different Classifier\")\n",
    "plt.ylabel(\"No. of Positive or Negative Tweets\")\n",
    "plt.title(\"Positive and Negative Analyzier\")\n",
    "plt.bar(xpos-0.2,finalPOS,color='red',width=0.4,label='POSITIVE')\n",
    "plt.bar(xpos+0.2,finalNEG,color='green',width=0.4,label='NEGATIVE')\n",
    "plt.legend(loc=\"best\")\n",
    "plt.savefig(\"C:\\\\Users\\kools\\\\Desktop\\\\Assignment\\\\graph8.png\",bbox_inches=\"tight\",pad_inches=2)"
   ]
  },
  {
   "cell_type": "code",
   "execution_count": null,
   "metadata": {},
   "outputs": [],
   "source": []
  },
  {
   "cell_type": "code",
   "execution_count": null,
   "metadata": {},
   "outputs": [],
   "source": []
  }
 ],
 "metadata": {
  "kernelspec": {
   "display_name": "Python 3",
   "language": "python",
   "name": "python3"
  },
  "language_info": {
   "codemirror_mode": {
    "name": "ipython",
    "version": 3
   },
   "file_extension": ".py",
   "mimetype": "text/x-python",
   "name": "python",
   "nbconvert_exporter": "python",
   "pygments_lexer": "ipython3",
   "version": "3.7.1"
  }
 },
 "nbformat": 4,
 "nbformat_minor": 2
}
